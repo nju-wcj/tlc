{
 "cells": [
  {
   "cell_type": "code",
   "execution_count": null,
   "metadata": {},
   "outputs": [],
   "source": [
    "# 依赖库\n",
    "from pyspark import SparkContext\n",
    "from pyspark.sql import SQLContext\n",
    "import os\n",
    "import sys\n",
    "import pandas\n",
    "# os.environ['PYSPARK_PYTHON']='/usr/local/bin/python3'\n",
    "# os.environ['JAVA_HOME'] = 'C:\\Program Files (x86)\\Java\\jdk1.8.0_112'\n",
    "sys.setrecursionlimit(9000000)"
   ]
  },
  {
   "cell_type": "code",
   "execution_count": null,
   "metadata": {},
   "outputs": [],
   "source": [
    "# 初始化数据\n",
    "sc = SparkContext( 'local', 'tlc')\n",
    "sqlContext = SQLContext(sc) \n",
    "zoom = sqlContext.read.format('com.databricks.spark.csv').options(header='true', inferschema='true').load('taxi+_zone_lookup.csv')\n",
    "data0 = sqlContext.read.format('com.databricks.spark.csv').options(header='true', inferschema='true').load('fhv_tripdata_2020-06.csv')\n",
    "data1 = sqlContext.read.format('com.databricks.spark.csv').options(header='true', inferschema='true').load('fhvhv_tripdata_2020-06.csv')\n",
    "data2 = sqlContext.read.format('com.databricks.spark.csv').options(header='true', inferschema='true').load('green_tripdata_2020-06.csv')\n",
    "data3 = sqlContext.read.format('com.databricks.spark.csv').options(header='true', inferschema='true').load('yellow_tripdata_2020-06.csv')\n",
    "data0 = data0.select('vendorid','pickup_datetime','dropoff_datetime','pulocationid','dolocationid')\n",
    "data1 = data1.select('vendorid','pickup_datetime','dropoff_datetime','pulocationid','dolocationid')\n",
    "data2 = data2.select('vendorid','pickup_datetime','dropoff_datetime','pulocationid','dolocationid')\n",
    "data3 = data3.select('vendorid','pickup_datetime','dropoff_datetime','pulocationid','dolocationid')\n",
    "data = data0.unionByName(data1).unionByName(data2).unionByName(data3)\n",
    "data = data.rdd"
   ]
  },
  {
   "cell_type": "code",
   "execution_count": null,
   "metadata": {},
   "outputs": [],
   "source": [
    "# 检验统计量\n",
    "def statistics(list):\n",
    "    data = pandas.Series(list)\n",
    "    return {'mean': data.mean(), 'std': data.std()}"
   ]
  },
  {
   "cell_type": "code",
   "execution_count": null,
   "metadata": {},
   "outputs": [],
   "source": [
    "# 获取统计该月的总天数\n",
    "def getDaysByMonth(dataMonth):\n",
    "    dataByDay = dataMonth.map(lambda x : (x[0].split(';')[1], 1)).groupByKey()\n",
    "    return dataByDay.count()"
   ]
  },
  {
   "cell_type": "code",
   "execution_count": null,
   "metadata": {},
   "outputs": [],
   "source": [
    "# 获取pickup订单数\n",
    "def getZoomPUNumByTime(dataMonth, starttime, endtime):\n",
    "    dataBytime = dataMonth.filter(lambda x : x[1]['pickup_datetime'].split(' ')[1] > starttime and x[1]['pickup_datetime'].split(' ')[1] < endtime)\n",
    "    countByzoom = dataBytime.map(lambda x : ('264' + ';' + x[0].split(';')[1], 1) if x[1]['pulocationid'] is None else (x[1]['pulocationid'] + ';' + x[0].split(';')[1], 1))\n",
    "    countByzoom = countByzoom.reduceByKey(lambda x, y : x + y)\n",
    "    countByzoom = countByzoom.map(lambda x : (x[0].split(';')[0], x[1])).groupByKey()\n",
    "    countByzoom = countByzoom.map(lambda x : {x[0] : statistics(list(x[1]))})\n",
    "    return countByzoom.collect()"
   ]
  },
  {
   "cell_type": "code",
   "execution_count": null,
   "metadata": {},
   "outputs": [],
   "source": [
    "# 获取dropoff订单数\n",
    "def getZoomDONumByTime(dataMonth, starttime, endtime):\n",
    "    dataBytime = dataMonth.filter(lambda x : x[1]['dropoff_datetime'].split(' ')[1] > starttime and x[1]['dropoff_datetime'].split(' ')[1] < endtime)\n",
    "    countByzoom = dataBytime.map(lambda x : ('264' + ';' + x[0].split(';')[1], 1) if x[1]['dolocationid'] is None else (x[1]['dolocationid'] + ';' + x[0].split(';')[1], 1))\n",
    "    countByzoom = countByzoom.reduceByKey(lambda x, y : x + y)\n",
    "    countByzoom = countByzoom.map(lambda x : (x[0].split(';')[0], x[1])).groupByKey()\n",
    "    countByzoom = countByzoom.map(lambda x : {x[0] : statistics(list(x[1]))})\n",
    "    return countByzoom.collect()"
   ]
  },
  {
   "cell_type": "code",
   "execution_count": null,
   "metadata": {},
   "outputs": [],
   "source": [
    "# 获取车辆时刻表\n",
    "def getAllCarTimeByDay(dataMonth):\n",
    "    dataAllCarByDay = dataMonth.groupByKey().map(lambda x : (x[0], countAllCarTimeByDay(x[1])))\n",
    "    return dataAllCarByDay\n",
    "# 获取车辆时长\n",
    "def countAllCarTimeByDay(dataCarByDay):\n",
    "    et = '0000-00-00 00:00:00'\n",
    "    st = '9999-99-99 99:99:00'\n",
    "    for one in dataCarByDay:\n",
    "        if one['pickup_datetime'] < st :\n",
    "            st = one['pickup_datetime']\n",
    "        if one['dropoff_datetime'] > et :\n",
    "            et = one['dropoff_datetime']\n",
    "    return {'starttime' : st, 'endtime' : et}"
   ]
  },
  {
   "cell_type": "code",
   "execution_count": null,
   "metadata": {},
   "outputs": [],
   "source": [
    "# 获取车辆工作比\n",
    "def getCarRateByTime(dataCarMonth, dataMonth, startime, endtime):\n",
    "    dataCarByTime = dataCarMonth.filter(lambda x : x[1]['endtime'].split(' ')[1] > starttime and x[1]['starttime'].split(' ')[1] < endtime)\n",
    "    dataCarByTime = dataCarByTime.map(lambda x : (x[0].split(';')[1], 1))\n",
    "    dataCarByTime = dataCarByTime.reduceByKey(lambda x, y : x + y)\n",
    "    dataBytime = dataMonth.filter(lambda x : x[1]['dropoff_datetime'].split(' ')[1] > starttime and x[1]['pickup_datetime'].split(' ')[1] < endtime)\n",
    "    dataBytime = dataBytime.map(lambda x : (x[0], 1)).distinct()\n",
    "    dataBytime = dataBytime.map(lambda x : (x[0].split(';')[1], 1))\n",
    "    dataBytime = dataBytime.reduceByKey(lambda x, y : x + y)\n",
    "    dataRate = dataCarByTime.fullOuterJoin(dataBytime)\n",
    "    dataRate = dataRate.map(lambda x : 0.0 if x[1][1] is None or x[1][0] is None else x[1][1] / x[1][0])\n",
    "    return statistics(dataRate.collect())"
   ]
  },
  {
   "cell_type": "code",
   "execution_count": null,
   "metadata": {
    "tags": [
     "outputPrepend"
    ]
   },
   "outputs": [],
   "source": [
    "zoomSize = zoom.count()\n",
    "for month in range(6, 7):\n",
    "    # 过滤月\n",
    "    dataMonth = data.filter(lambda x : '-%02d-'%(month) in x['pickup_datetime'].split(' ')[0] and x['pickup_datetime'].split(' ')[0] == x['dropoff_datetime'].split(' ')[0])\n",
    "    dataMonth = dataMonth.map(lambda x : (x['vendorid'] + ';' + x['pickup_datetime'].split(' ')[0], x))\n",
    "    # 获取车辆总时间\n",
    "    dataCarMonth = getAllCarTimeByDay(dataMonth)\n",
    "    for part in range(24 * 12):\n",
    "        hour1 = int(part / 12)\n",
    "        min1 = part % 12\n",
    "        hour2 = int((part + 1) / 12)\n",
    "        min2 = (part + 1) % 12\n",
    "        starttime = '%02d:%02d:00'%(hour1, min1 * 5)\n",
    "        endtime = '%02d:%02d:00'%(hour2, min2 * 5)\n",
    "        print('%s-%s'%(starttime, endtime))\n",
    "        cr = getCarRateByTime(dataCarMonth, dataMonth, starttime, endtime)\n",
    "        print('---cr---')\n",
    "        print(cr)\n",
    "        pu = getZoomPUNumByTime(dataMonth, starttime, endtime)\n",
    "        print('---pu---')\n",
    "        print(pu)\n",
    "        do = getZoomDONumByTime(dataMonth, starttime, endtime)\n",
    "        print('---do---')\n",
    "        print(do)\n"
   ]
  },
  {
   "cell_type": "code",
   "execution_count": null,
   "metadata": {},
   "outputs": [],
   "source": []
  }
 ],
 "metadata": {
  "kernelspec": {
   "name": "Python 3.8.6 64-bit",
   "display_name": "Python 3.8.6 64-bit",
   "metadata": {
    "interpreter": {
     "hash": "aee8b7b246df8f9039afb4144a1f6fd8d2ca17a180786b69acc140d282b71a49"
    }
   }
  },
  "language_info": {
   "codemirror_mode": {
    "name": "ipython",
    "version": 3
   },
   "file_extension": ".py",
   "mimetype": "text/x-python",
   "name": "python",
   "nbconvert_exporter": "python",
   "pygments_lexer": "ipython3",
   "version": "3.8.6-final"
  }
 },
 "nbformat": 4,
 "nbformat_minor": 4
}