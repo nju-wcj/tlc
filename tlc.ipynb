{
 "cells": [
  {
   "cell_type": "code",
   "execution_count": 20,
   "metadata": {},
   "outputs": [],
   "source": [
    "# 依赖库\n",
    "from pyspark import SparkContext\n",
    "from pyspark.sql import SQLContext\n",
    "import os\n",
    "import sys\n",
    "import pandas\n",
    "from datetime import datetime\n",
    "import time\n",
    "# os.environ['PYSPARK_PYTHON']='/usr/local/bin/python3'\n",
    "# os.environ['JAVA_HOME'] = 'C:\\Program Files (x86)\\Java\\jdk1.8.0_112'\n",
    "sys.setrecursionlimit(9000000)"
   ]
  },
  {
   "cell_type": "code",
   "execution_count": 2,
   "metadata": {},
   "outputs": [],
   "source": [
    "# 初始化数据\n",
    "sc = SparkContext( 'local', 'tlc')\n",
    "sqlContext = SQLContext(sc) \n",
    "zoom = sqlContext.read.format('com.databricks.spark.csv').options(header='true', inferschema='true').load('taxi+_zone_lookup.csv')\n",
    "data0 = sqlContext.read.format('com.databricks.spark.csv').options(header='true', inferschema='true').load('fhv_tripdata_2020-06.csv')\n",
    "data1 = sqlContext.read.format('com.databricks.spark.csv').options(header='true', inferschema='true').load('fhvhv_tripdata_2020-06.csv')\n",
    "data2 = sqlContext.read.format('com.databricks.spark.csv').options(header='true', inferschema='true').load('green_tripdata_2020-06.csv')\n",
    "data3 = sqlContext.read.format('com.databricks.spark.csv').options(header='true', inferschema='true').load('yellow_tripdata_2020-06.csv')\n",
    "data0 = data0.select('vendorid','pickup_datetime','dropoff_datetime','pulocationid','dolocationid')\n",
    "data1 = data1.select('vendorid','pickup_datetime','dropoff_datetime','pulocationid','dolocationid')\n",
    "data2 = data2.select('vendorid','pickup_datetime','dropoff_datetime','pulocationid','dolocationid')\n",
    "data3 = data3.select('vendorid','pickup_datetime','dropoff_datetime','pulocationid','dolocationid')\n",
    "data = data0.unionByName(data1).unionByName(data2).unionByName(data3)\n",
    "data = data.rdd"
   ]
  },
  {
   "cell_type": "code",
   "execution_count": 3,
   "metadata": {},
   "outputs": [],
   "source": [
    "# 检验统计量\n",
    "def statistics(list):\n",
    "    data = pandas.Series(list)\n",
    "    return {'mean': data.mean(), 'std': data.std()}"
   ]
  },
  {
   "cell_type": "code",
   "execution_count": 4,
   "metadata": {},
   "outputs": [],
   "source": [
    "# 获取统计该月的总天数\n",
    "def getDaysByMonth(dataMonth):\n",
    "    dataByDay = dataMonth.map(lambda x : (x[0].split(';')[1], 1)).groupByKey()\n",
    "    return dataByDay.count()"
   ]
  },
  {
   "cell_type": "code",
   "execution_count": 5,
   "metadata": {},
   "outputs": [],
   "source": [
    "# 获取pickup订单数\n",
    "def getZoomPUNumByTime(dataMonth, starttime, endtime):\n",
    "    dataBytime = dataMonth.filter(lambda x : x[1]['pickup_datetime'].split(' ')[1] > starttime and x[1]['pickup_datetime'].split(' ')[1] < endtime)\n",
    "    countByzoom = dataBytime.map(lambda x : ('264' + ';' + x[0].split(';')[1], 1) if x[1]['pulocationid'] is None else (x[1]['pulocationid'] + ';' + x[0].split(';')[1], 1))\n",
    "    countByzoom = countByzoom.reduceByKey(lambda x, y : x + y)\n",
    "    countByzoom = countByzoom.map(lambda x : (x[0].split(';')[0], x[1])).groupByKey()\n",
    "    countByzoom = countByzoom.map(lambda x : {x[0] : statistics(list(x[1]))})\n",
    "    return countByzoom.collect()"
   ]
  },
  {
   "cell_type": "code",
   "execution_count": 6,
   "metadata": {},
   "outputs": [],
   "source": [
    "# 获取dropoff订单数\n",
    "def getZoomDONumByTime(dataMonth, starttime, endtime):\n",
    "    dataBytime = dataMonth.filter(lambda x : x[1]['dropoff_datetime'].split(' ')[1] > starttime and x[1]['dropoff_datetime'].split(' ')[1] < endtime)\n",
    "    countByzoom = dataBytime.map(lambda x : ('264' + ';' + x[0].split(';')[1], 1) if x[1]['dolocationid'] is None else (x[1]['dolocationid'] + ';' + x[0].split(';')[1], 1))\n",
    "    countByzoom = countByzoom.reduceByKey(lambda x, y : x + y)\n",
    "    countByzoom = countByzoom.map(lambda x : (x[0].split(';')[0], x[1])).groupByKey()\n",
    "    countByzoom = countByzoom.map(lambda x : {x[0] : statistics(list(x[1]))})\n",
    "    return countByzoom.collect()"
   ]
  },
  {
   "cell_type": "code",
   "execution_count": 36,
   "metadata": {},
   "outputs": [],
   "source": [
    "# 获取车辆时刻表\n",
    "def getAllCarTimeByDay(dataMonth):\n",
    "    dataAllCarByDay = dataMonth.groupByKey().map(lambda x : (x[0], countAllCarTimeByDay(x[1])))\n",
    "    return dataAllCarByDay\n",
    "# 获取车辆时长\n",
    "def countAllCarTimeByDay(dataCarByDay):\n",
    "    et = '0000-00-00 00:00:00'\n",
    "    st = '9999-99-99 99:99:00'\n",
    "    for one in dataCarByDay:\n",
    "        if one['pickup_datetime'] < st :\n",
    "            st = one['pickup_datetime']\n",
    "        if one['dropoff_datetime'] > et :\n",
    "            et = one['dropoff_datetime']\n",
    "    return {'starttime' : st, 'endtime' : et}"
   ]
  },
  {
   "cell_type": "code",
   "execution_count": 56,
   "metadata": {},
   "outputs": [],
   "source": [
    "# 判断车辆是否在工作时间\n",
    "def judgeCarTime(dataCarByDay, starttime, endtime):\n",
    "    starttime = int(time.mktime(time.strptime(starttime, '%H:%M:%S')))\n",
    "    endtime = int(time.mktime(time.strptime(endtime, '%H:%M:%S')))   \n",
    "    for one in dataCarByDay:\n",
    "        putime = int(time.mktime(time.strptime(one['pickup_datetime'].split(' ')[1], '%H:%M:%S')))\n",
    "        dotime = int(time.mktime(time.strptime(one['dropoff_datetime'].split(' ')[1], '%H:%M:%S')))\n",
    "        if (starttime - dotime < 3600 and putime - endtime < 3600):\n",
    "            return True\n",
    "    return False"
   ]
  },
  {
   "cell_type": "code",
   "execution_count": 57,
   "metadata": {},
   "outputs": [],
   "source": [
    "# 获取车辆工作比\n",
    "def getCarRateByTime(dataMonth, starttime, endtime):\n",
    "#     dataCarByTime = dataCarMonth.filter(lambda x : x[1]['endtime'].split(' ')[1] > starttime and x[1]['starttime'].split(' ')[1] < endtime)\n",
    "#     dataCarByTime = dataCarByTime.map(lambda x : (x[0].split(';')[1], 1))\n",
    "#     dataCarByTime = dataCarByTime.reduceByKey(lambda x, y : x + y)\n",
    "    dataBytime = dataMonth.filter(lambda x : x[1]['dropoff_datetime'].split(' ')[1] > starttime and x[1]['pickup_datetime'].split(' ')[1] < endtime)\n",
    "    dataBytime = dataBytime.map(lambda x : (x[0], 1)).distinct()\n",
    "    dataBytime = dataBytime.map(lambda x : (x[0].split(';')[1], 1))\n",
    "    dataBytime = dataBytime.reduceByKey(lambda x, y : x + y)\n",
    "    dataCarByTime = dataMonth.groupByKey()\n",
    "    dataCarByTime = dataCarByTime.filter(lambda x : judgeCarTime(x[1], starttime, endtime))\n",
    "    dataCarByTime = dataCarByTime.map(lambda x : (x[0].split(';')[1], 1))\n",
    "    dataCarByTime = dataCarByTime.reduceByKey(lambda x, y : x + y)\n",
    "    dataRate = dataCarByTime.fullOuterJoin(dataBytime)\n",
    "    print(dataRate.collect())\n",
    "    dataRate = dataRate.map(lambda x : 0.0 if x[1][1] is None or x[1][0] is None else x[1][1] / x[1][0])\n",
    "    return statistics(dataRate.collect())"
   ]
  },
  {
   "cell_type": "code",
   "execution_count": 58,
   "metadata": {
    "tags": [
     "outputPrepend"
    ]
   },
   "outputs": [
    {
     "name": "stdout",
     "output_type": "stream",
     "text": [
      "00:00:00-00:05:00\n",
      "[('2020-06-02', (4, None)), ('2020-06-04', (2, None)), ('2020-06-03', (2, 1))]\n",
      "---cr---\n",
      "{'mean': 0.16666666666666666, 'std': 0.2886751345948129}\n",
      "---pu---\n",
      "[{'152': {'mean': 1.0, 'std': nan}}]\n",
      "---do---\n",
      "[]\n",
      "00:05:00-00:10:00\n",
      "[('2020-06-02', (4, 4)), ('2020-06-04', (2, 1)), ('2020-06-03', (2, 1))]\n",
      "---cr---\n",
      "{'mean': 0.6666666666666666, 'std': 0.28867513459481287}\n",
      "---pu---\n",
      "[{'190': {'mean': 1.0, 'std': nan}}, {'166': {'mean': 1.0, 'std': nan}}, {'17': {'mean': 1.0, 'std': nan}}, {'140': {'mean': 1.0, 'std': nan}}, {'127': {'mean': 1.0, 'std': nan}}, {'142': {'mean': 1.0, 'std': nan}}]\n",
      "---do---\n",
      "[]\n",
      "00:10:00-00:15:00\n",
      "[('2020-06-02', (4, 4)), ('2020-06-04', (2, 1)), ('2020-06-03', (2, 1))]\n",
      "---cr---\n",
      "{'mean': 0.6666666666666666, 'std': 0.28867513459481287}\n",
      "---pu---\n",
      "[{'244': {'mean': 1.0, 'std': nan}}, {'238': {'mean': 1.0, 'std': nan}}]\n",
      "---do---\n",
      "[{'186': {'mean': 1.0, 'std': nan}}]\n",
      "00:15:00-00:20:00\n",
      "[('2020-06-02', (4, 4)), ('2020-06-04', (2, 2)), ('2020-06-03', (2, 1))]\n",
      "---cr---\n",
      "{'mean': 0.8333333333333334, 'std': 0.28867513459481287}\n",
      "---pu---\n",
      "[{'230': {'mean': 1.0, 'std': nan}}, {'243': {'mean': 1.0, 'std': nan}}, {'186': {'mean': 2.0, 'std': nan}}, {'76': {'mean': 1.0, 'std': nan}}, {'182': {'mean': 1.0, 'std': nan}}]\n",
      "---do---\n",
      "[{'243': {'mean': 1.0, 'std': nan}}, {'151': {'mean': 1.0, 'std': nan}}, {'247': {'mean': 1.0, 'std': nan}}, {'17': {'mean': 1.0, 'std': nan}}, {'234': {'mean': 1.0, 'std': nan}}]\n",
      "00:20:00-00:25:00\n"
     ]
    },
    {
     "ename": "KeyboardInterrupt",
     "evalue": "",
     "output_type": "error",
     "traceback": [
      "\u001b[0;31m\u001b[0m",
      "\u001b[0;31mKeyboardInterrupt\u001b[0mTraceback (most recent call last)",
      "\u001b[0;32m<ipython-input-58-f6ec9b5989e0>\u001b[0m in \u001b[0;36m<module>\u001b[0;34m\u001b[0m\n\u001b[1;32m     16\u001b[0m         \u001b[0mendtime\u001b[0m \u001b[0;34m=\u001b[0m \u001b[0;34m'%02d:%02d:00'\u001b[0m\u001b[0;34m%\u001b[0m\u001b[0;34m(\u001b[0m\u001b[0mhour2\u001b[0m\u001b[0;34m,\u001b[0m \u001b[0mmin2\u001b[0m \u001b[0;34m*\u001b[0m \u001b[0;36m5\u001b[0m\u001b[0;34m)\u001b[0m\u001b[0;34m\u001b[0m\u001b[0;34m\u001b[0m\u001b[0m\n\u001b[1;32m     17\u001b[0m         \u001b[0mprint\u001b[0m\u001b[0;34m(\u001b[0m\u001b[0;34m'%s-%s'\u001b[0m\u001b[0;34m%\u001b[0m\u001b[0;34m(\u001b[0m\u001b[0mstarttime\u001b[0m\u001b[0;34m,\u001b[0m \u001b[0mendtime\u001b[0m\u001b[0;34m)\u001b[0m\u001b[0;34m)\u001b[0m\u001b[0;34m\u001b[0m\u001b[0;34m\u001b[0m\u001b[0m\n\u001b[0;32m---> 18\u001b[0;31m         \u001b[0mcr\u001b[0m \u001b[0;34m=\u001b[0m \u001b[0mgetCarRateByTime\u001b[0m\u001b[0;34m(\u001b[0m\u001b[0mdataMonth\u001b[0m\u001b[0;34m,\u001b[0m \u001b[0mstarttime\u001b[0m\u001b[0;34m,\u001b[0m \u001b[0mendtime\u001b[0m\u001b[0;34m)\u001b[0m\u001b[0;34m\u001b[0m\u001b[0;34m\u001b[0m\u001b[0m\n\u001b[0m\u001b[1;32m     19\u001b[0m         \u001b[0mprint\u001b[0m\u001b[0;34m(\u001b[0m\u001b[0;34m'---cr---'\u001b[0m\u001b[0;34m)\u001b[0m\u001b[0;34m\u001b[0m\u001b[0;34m\u001b[0m\u001b[0m\n\u001b[1;32m     20\u001b[0m         \u001b[0mprint\u001b[0m\u001b[0;34m(\u001b[0m\u001b[0mcr\u001b[0m\u001b[0;34m)\u001b[0m\u001b[0;34m\u001b[0m\u001b[0;34m\u001b[0m\u001b[0m\n",
      "\u001b[0;32m<ipython-input-57-0938bccbba17>\u001b[0m in \u001b[0;36mgetCarRateByTime\u001b[0;34m(dataMonth, starttime, endtime)\u001b[0m\n\u001b[1;32m     13\u001b[0m     \u001b[0mdataCarByTime\u001b[0m \u001b[0;34m=\u001b[0m \u001b[0mdataCarByTime\u001b[0m\u001b[0;34m.\u001b[0m\u001b[0mreduceByKey\u001b[0m\u001b[0;34m(\u001b[0m\u001b[0;32mlambda\u001b[0m \u001b[0mx\u001b[0m\u001b[0;34m,\u001b[0m \u001b[0my\u001b[0m \u001b[0;34m:\u001b[0m \u001b[0mx\u001b[0m \u001b[0;34m+\u001b[0m \u001b[0my\u001b[0m\u001b[0;34m)\u001b[0m\u001b[0;34m\u001b[0m\u001b[0;34m\u001b[0m\u001b[0m\n\u001b[1;32m     14\u001b[0m     \u001b[0mdataRate\u001b[0m \u001b[0;34m=\u001b[0m \u001b[0mdataCarByTime\u001b[0m\u001b[0;34m.\u001b[0m\u001b[0mfullOuterJoin\u001b[0m\u001b[0;34m(\u001b[0m\u001b[0mdataBytime\u001b[0m\u001b[0;34m)\u001b[0m\u001b[0;34m\u001b[0m\u001b[0;34m\u001b[0m\u001b[0m\n\u001b[0;32m---> 15\u001b[0;31m     \u001b[0mprint\u001b[0m\u001b[0;34m(\u001b[0m\u001b[0mdataRate\u001b[0m\u001b[0;34m.\u001b[0m\u001b[0mcollect\u001b[0m\u001b[0;34m(\u001b[0m\u001b[0;34m)\u001b[0m\u001b[0;34m)\u001b[0m\u001b[0;34m\u001b[0m\u001b[0;34m\u001b[0m\u001b[0m\n\u001b[0m\u001b[1;32m     16\u001b[0m     \u001b[0mdataRate\u001b[0m \u001b[0;34m=\u001b[0m \u001b[0mdataRate\u001b[0m\u001b[0;34m.\u001b[0m\u001b[0mmap\u001b[0m\u001b[0;34m(\u001b[0m\u001b[0;32mlambda\u001b[0m \u001b[0mx\u001b[0m \u001b[0;34m:\u001b[0m \u001b[0;36m0.0\u001b[0m \u001b[0;32mif\u001b[0m \u001b[0mx\u001b[0m\u001b[0;34m[\u001b[0m\u001b[0;36m1\u001b[0m\u001b[0;34m]\u001b[0m\u001b[0;34m[\u001b[0m\u001b[0;36m1\u001b[0m\u001b[0;34m]\u001b[0m \u001b[0;32mis\u001b[0m \u001b[0;32mNone\u001b[0m \u001b[0;32mor\u001b[0m \u001b[0mx\u001b[0m\u001b[0;34m[\u001b[0m\u001b[0;36m1\u001b[0m\u001b[0;34m]\u001b[0m\u001b[0;34m[\u001b[0m\u001b[0;36m0\u001b[0m\u001b[0;34m]\u001b[0m \u001b[0;32mis\u001b[0m \u001b[0;32mNone\u001b[0m \u001b[0;32melse\u001b[0m \u001b[0mx\u001b[0m\u001b[0;34m[\u001b[0m\u001b[0;36m1\u001b[0m\u001b[0;34m]\u001b[0m\u001b[0;34m[\u001b[0m\u001b[0;36m1\u001b[0m\u001b[0;34m]\u001b[0m \u001b[0;34m/\u001b[0m \u001b[0mx\u001b[0m\u001b[0;34m[\u001b[0m\u001b[0;36m1\u001b[0m\u001b[0;34m]\u001b[0m\u001b[0;34m[\u001b[0m\u001b[0;36m0\u001b[0m\u001b[0;34m]\u001b[0m\u001b[0;34m)\u001b[0m\u001b[0;34m\u001b[0m\u001b[0;34m\u001b[0m\u001b[0m\n\u001b[1;32m     17\u001b[0m     \u001b[0;32mreturn\u001b[0m \u001b[0mstatistics\u001b[0m\u001b[0;34m(\u001b[0m\u001b[0mdataRate\u001b[0m\u001b[0;34m.\u001b[0m\u001b[0mcollect\u001b[0m\u001b[0;34m(\u001b[0m\u001b[0;34m)\u001b[0m\u001b[0;34m)\u001b[0m\u001b[0;34m\u001b[0m\u001b[0;34m\u001b[0m\u001b[0m\n",
      "\u001b[0;32m/usr/local/lib/python3.8/site-packages/pyspark/rdd.py\u001b[0m in \u001b[0;36mcollect\u001b[0;34m(self)\u001b[0m\n\u001b[1;32m    887\u001b[0m         \"\"\"\n\u001b[1;32m    888\u001b[0m         \u001b[0;32mwith\u001b[0m \u001b[0mSCCallSiteSync\u001b[0m\u001b[0;34m(\u001b[0m\u001b[0mself\u001b[0m\u001b[0;34m.\u001b[0m\u001b[0mcontext\u001b[0m\u001b[0;34m)\u001b[0m \u001b[0;32mas\u001b[0m \u001b[0mcss\u001b[0m\u001b[0;34m:\u001b[0m\u001b[0;34m\u001b[0m\u001b[0;34m\u001b[0m\u001b[0m\n\u001b[0;32m--> 889\u001b[0;31m             \u001b[0msock_info\u001b[0m \u001b[0;34m=\u001b[0m \u001b[0mself\u001b[0m\u001b[0;34m.\u001b[0m\u001b[0mctx\u001b[0m\u001b[0;34m.\u001b[0m\u001b[0m_jvm\u001b[0m\u001b[0;34m.\u001b[0m\u001b[0mPythonRDD\u001b[0m\u001b[0;34m.\u001b[0m\u001b[0mcollectAndServe\u001b[0m\u001b[0;34m(\u001b[0m\u001b[0mself\u001b[0m\u001b[0;34m.\u001b[0m\u001b[0m_jrdd\u001b[0m\u001b[0;34m.\u001b[0m\u001b[0mrdd\u001b[0m\u001b[0;34m(\u001b[0m\u001b[0;34m)\u001b[0m\u001b[0;34m)\u001b[0m\u001b[0;34m\u001b[0m\u001b[0;34m\u001b[0m\u001b[0m\n\u001b[0m\u001b[1;32m    890\u001b[0m         \u001b[0;32mreturn\u001b[0m \u001b[0mlist\u001b[0m\u001b[0;34m(\u001b[0m\u001b[0m_load_from_socket\u001b[0m\u001b[0;34m(\u001b[0m\u001b[0msock_info\u001b[0m\u001b[0;34m,\u001b[0m \u001b[0mself\u001b[0m\u001b[0;34m.\u001b[0m\u001b[0m_jrdd_deserializer\u001b[0m\u001b[0;34m)\u001b[0m\u001b[0;34m)\u001b[0m\u001b[0;34m\u001b[0m\u001b[0;34m\u001b[0m\u001b[0m\n\u001b[1;32m    891\u001b[0m \u001b[0;34m\u001b[0m\u001b[0m\n",
      "\u001b[0;32m/usr/local/lib/python3.8/site-packages/py4j/java_gateway.py\u001b[0m in \u001b[0;36m__call__\u001b[0;34m(self, *args)\u001b[0m\n\u001b[1;32m   1301\u001b[0m             \u001b[0mproto\u001b[0m\u001b[0;34m.\u001b[0m\u001b[0mEND_COMMAND_PART\u001b[0m\u001b[0;34m\u001b[0m\u001b[0;34m\u001b[0m\u001b[0m\n\u001b[1;32m   1302\u001b[0m \u001b[0;34m\u001b[0m\u001b[0m\n\u001b[0;32m-> 1303\u001b[0;31m         \u001b[0manswer\u001b[0m \u001b[0;34m=\u001b[0m \u001b[0mself\u001b[0m\u001b[0;34m.\u001b[0m\u001b[0mgateway_client\u001b[0m\u001b[0;34m.\u001b[0m\u001b[0msend_command\u001b[0m\u001b[0;34m(\u001b[0m\u001b[0mcommand\u001b[0m\u001b[0;34m)\u001b[0m\u001b[0;34m\u001b[0m\u001b[0;34m\u001b[0m\u001b[0m\n\u001b[0m\u001b[1;32m   1304\u001b[0m         return_value = get_return_value(\n\u001b[1;32m   1305\u001b[0m             answer, self.gateway_client, self.target_id, self.name)\n",
      "\u001b[0;32m/usr/local/lib/python3.8/site-packages/py4j/java_gateway.py\u001b[0m in \u001b[0;36msend_command\u001b[0;34m(self, command, retry, binary)\u001b[0m\n\u001b[1;32m   1031\u001b[0m         \u001b[0mconnection\u001b[0m \u001b[0;34m=\u001b[0m \u001b[0mself\u001b[0m\u001b[0;34m.\u001b[0m\u001b[0m_get_connection\u001b[0m\u001b[0;34m(\u001b[0m\u001b[0;34m)\u001b[0m\u001b[0;34m\u001b[0m\u001b[0;34m\u001b[0m\u001b[0m\n\u001b[1;32m   1032\u001b[0m         \u001b[0;32mtry\u001b[0m\u001b[0;34m:\u001b[0m\u001b[0;34m\u001b[0m\u001b[0;34m\u001b[0m\u001b[0m\n\u001b[0;32m-> 1033\u001b[0;31m             \u001b[0mresponse\u001b[0m \u001b[0;34m=\u001b[0m \u001b[0mconnection\u001b[0m\u001b[0;34m.\u001b[0m\u001b[0msend_command\u001b[0m\u001b[0;34m(\u001b[0m\u001b[0mcommand\u001b[0m\u001b[0;34m)\u001b[0m\u001b[0;34m\u001b[0m\u001b[0;34m\u001b[0m\u001b[0m\n\u001b[0m\u001b[1;32m   1034\u001b[0m             \u001b[0;32mif\u001b[0m \u001b[0mbinary\u001b[0m\u001b[0;34m:\u001b[0m\u001b[0;34m\u001b[0m\u001b[0;34m\u001b[0m\u001b[0m\n\u001b[1;32m   1035\u001b[0m                 \u001b[0;32mreturn\u001b[0m \u001b[0mresponse\u001b[0m\u001b[0;34m,\u001b[0m \u001b[0mself\u001b[0m\u001b[0;34m.\u001b[0m\u001b[0m_create_connection_guard\u001b[0m\u001b[0;34m(\u001b[0m\u001b[0mconnection\u001b[0m\u001b[0;34m)\u001b[0m\u001b[0;34m\u001b[0m\u001b[0;34m\u001b[0m\u001b[0m\n",
      "\u001b[0;32m/usr/local/lib/python3.8/site-packages/py4j/java_gateway.py\u001b[0m in \u001b[0;36msend_command\u001b[0;34m(self, command)\u001b[0m\n\u001b[1;32m   1198\u001b[0m \u001b[0;34m\u001b[0m\u001b[0m\n\u001b[1;32m   1199\u001b[0m         \u001b[0;32mtry\u001b[0m\u001b[0;34m:\u001b[0m\u001b[0;34m\u001b[0m\u001b[0;34m\u001b[0m\u001b[0m\n\u001b[0;32m-> 1200\u001b[0;31m             \u001b[0manswer\u001b[0m \u001b[0;34m=\u001b[0m \u001b[0msmart_decode\u001b[0m\u001b[0;34m(\u001b[0m\u001b[0mself\u001b[0m\u001b[0;34m.\u001b[0m\u001b[0mstream\u001b[0m\u001b[0;34m.\u001b[0m\u001b[0mreadline\u001b[0m\u001b[0;34m(\u001b[0m\u001b[0;34m)\u001b[0m\u001b[0;34m[\u001b[0m\u001b[0;34m:\u001b[0m\u001b[0;34m-\u001b[0m\u001b[0;36m1\u001b[0m\u001b[0;34m]\u001b[0m\u001b[0;34m)\u001b[0m\u001b[0;34m\u001b[0m\u001b[0;34m\u001b[0m\u001b[0m\n\u001b[0m\u001b[1;32m   1201\u001b[0m             \u001b[0mlogger\u001b[0m\u001b[0;34m.\u001b[0m\u001b[0mdebug\u001b[0m\u001b[0;34m(\u001b[0m\u001b[0;34m\"Answer received: {0}\"\u001b[0m\u001b[0;34m.\u001b[0m\u001b[0mformat\u001b[0m\u001b[0;34m(\u001b[0m\u001b[0manswer\u001b[0m\u001b[0;34m)\u001b[0m\u001b[0;34m)\u001b[0m\u001b[0;34m\u001b[0m\u001b[0;34m\u001b[0m\u001b[0m\n\u001b[1;32m   1202\u001b[0m             \u001b[0;32mif\u001b[0m \u001b[0manswer\u001b[0m\u001b[0;34m.\u001b[0m\u001b[0mstartswith\u001b[0m\u001b[0;34m(\u001b[0m\u001b[0mproto\u001b[0m\u001b[0;34m.\u001b[0m\u001b[0mRETURN_MESSAGE\u001b[0m\u001b[0;34m)\u001b[0m\u001b[0;34m:\u001b[0m\u001b[0;34m\u001b[0m\u001b[0;34m\u001b[0m\u001b[0m\n",
      "\u001b[0;32m/usr/local/lib/python3.8/socket.py\u001b[0m in \u001b[0;36mreadinto\u001b[0;34m(self, b)\u001b[0m\n\u001b[1;32m    667\u001b[0m         \u001b[0;32mwhile\u001b[0m \u001b[0;32mTrue\u001b[0m\u001b[0;34m:\u001b[0m\u001b[0;34m\u001b[0m\u001b[0;34m\u001b[0m\u001b[0m\n\u001b[1;32m    668\u001b[0m             \u001b[0;32mtry\u001b[0m\u001b[0;34m:\u001b[0m\u001b[0;34m\u001b[0m\u001b[0;34m\u001b[0m\u001b[0m\n\u001b[0;32m--> 669\u001b[0;31m                 \u001b[0;32mreturn\u001b[0m \u001b[0mself\u001b[0m\u001b[0;34m.\u001b[0m\u001b[0m_sock\u001b[0m\u001b[0;34m.\u001b[0m\u001b[0mrecv_into\u001b[0m\u001b[0;34m(\u001b[0m\u001b[0mb\u001b[0m\u001b[0;34m)\u001b[0m\u001b[0;34m\u001b[0m\u001b[0;34m\u001b[0m\u001b[0m\n\u001b[0m\u001b[1;32m    670\u001b[0m             \u001b[0;32mexcept\u001b[0m \u001b[0mtimeout\u001b[0m\u001b[0;34m:\u001b[0m\u001b[0;34m\u001b[0m\u001b[0;34m\u001b[0m\u001b[0m\n\u001b[1;32m    671\u001b[0m                 \u001b[0mself\u001b[0m\u001b[0;34m.\u001b[0m\u001b[0m_timeout_occurred\u001b[0m \u001b[0;34m=\u001b[0m \u001b[0;32mTrue\u001b[0m\u001b[0;34m\u001b[0m\u001b[0;34m\u001b[0m\u001b[0m\n",
      "\u001b[0;31mKeyboardInterrupt\u001b[0m: "
     ]
    }
   ],
   "source": [
    "zoomSize = zoom.count()\n",
    "for month in range(6, 7):\n",
    "    # 清洗空数据\n",
    "    dataMonth = data.filter(lambda x : x['vendorid'] is not None and  x['pickup_datetime'] is not None and x['dropoff_datetime'] is not None and x['pulocationid'] is not None and x['dolocationid'] is not None)\n",
    "    # 过滤月\n",
    "    dataMonth = dataMonth.filter(lambda x : '-%02d-'%(month) in x['pickup_datetime'].split(' ')[0] and x['pickup_datetime'].split(' ')[0] == x['dropoff_datetime'].split(' ')[0])\n",
    "    dataMonth = dataMonth.map(lambda x : (x['vendorid'] + ';' + x['pickup_datetime'].split(' ')[0], x))\n",
    "    # 获取车辆总时间\n",
    "#     dataCarMonth = getAllCarTimeByDay(dataMonth)\n",
    "    for part in range(24 * 12):\n",
    "        hour1 = int(part / 12)\n",
    "        min1 = part % 12\n",
    "        hour2 = int((part + 1) / 12)\n",
    "        min2 = (part + 1) % 12\n",
    "        starttime = '%02d:%02d:00'%(hour1, min1 * 5)\n",
    "        endtime = '%02d:%02d:00'%(hour2, min2 * 5)\n",
    "        print('%s-%s'%(starttime, endtime))\n",
    "        cr = getCarRateByTime(dataMonth, starttime, endtime)\n",
    "        print('---cr---')\n",
    "        print(cr)\n",
    "        pu = getZoomPUNumByTime(dataMonth, starttime, endtime)\n",
    "        print('---pu---')\n",
    "        print(pu)\n",
    "        do = getZoomDONumByTime(dataMonth, starttime, endtime)\n",
    "        print('---do---')\n",
    "        print(do)\n"
   ]
  },
  {
   "cell_type": "code",
   "execution_count": null,
   "metadata": {},
   "outputs": [],
   "source": []
  }
 ],
 "metadata": {
  "kernelspec": {
   "display_name": "Python 3",
   "language": "python",
   "name": "python3"
  },
  "language_info": {
   "codemirror_mode": {
    "name": "ipython",
    "version": 3
   },
   "file_extension": ".py",
   "mimetype": "text/x-python",
   "name": "python",
   "nbconvert_exporter": "python",
   "pygments_lexer": "ipython3",
   "version": "3.8.5"
  }
 },
 "nbformat": 4,
 "nbformat_minor": 4
}
